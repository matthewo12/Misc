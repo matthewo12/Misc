{
 "cells": [
  {
   "cell_type": "markdown",
   "id": "e9a200f1-c3f1-41c0-b454-b04e4112e150",
   "metadata": {},
   "source": [
    "# Data Science Tools and Ecosystem"
   ]
  },
  {
   "cell_type": "markdown",
   "id": "cb7e32bc-f4db-4dc6-9404-eef58ea17fd7",
   "metadata": {},
   "source": [
    "In this notebook, Data Science Tools and Ecosystem are summarized."
   ]
  },
  {
   "cell_type": "markdown",
   "id": "0d0af965-5a2a-4269-85c3-6884b34c3d8d",
   "metadata": {},
   "source": [
    "Some of the popular languages that Data Scientists use are:\n",
    "\n",
    "1. Python\n",
    "2. Java\n",
    "3. C++"
   ]
  },
  {
   "cell_type": "markdown",
   "id": "7925ea0b-a839-4af7-9fa3-5cd13a29578d",
   "metadata": {},
   "source": [
    "Some of the commonly used libraries used by Data Scientists include:\n",
    "\n",
    "1. Pandas  \n",
    "2. NumPy  \n",
    "3. Scikit-learn"
   ]
  },
  {
   "cell_type": "markdown",
   "id": "e31d3271-3f7b-4b77-87c4-5e9aac8f5fae",
   "metadata": {},
   "source": []
  },
  {
   "cell_type": "markdown",
   "id": "47778703-b3f6-4bff-9a75-e1aede595ea8",
   "metadata": {},
   "source": [
    "| Data Science Tools |\n",
    "|--------------------|\n",
    "| Jupyter Notebook   |\n",
    "| RStudio            |\n",
    "| Apache Zeppelin    |"
   ]
  },
  {
   "cell_type": "markdown",
   "id": "928e4d4b-7d00-4318-8275-f4cc3fb23ebf",
   "metadata": {},
   "source": [
    "### Below are a few examples of evaluating arithmetic expressions in Python"
   ]
  },
  {
   "cell_type": "code",
   "execution_count": 5,
   "id": "09a28c24-ccbf-42b5-86d9-2540daae762d",
   "metadata": {},
   "outputs": [
    {
     "data": {
      "text/plain": [
       "17"
      ]
     },
     "execution_count": 5,
     "metadata": {},
     "output_type": "execute_result"
    }
   ],
   "source": [
    "# This a simple arithmetic expression to multiply then add integers\n",
    "(3*4)+5\n"
   ]
  },
  {
   "cell_type": "code",
   "execution_count": 7,
   "id": "7cd88637-bb1b-4e40-861d-1d47bb724413",
   "metadata": {},
   "outputs": [
    {
     "data": {
      "text/plain": [
       "3.3333333333333335"
      ]
     },
     "execution_count": 7,
     "metadata": {},
     "output_type": "execute_result"
    }
   ],
   "source": [
    "# This will convert 200 minutes to hours by diving by 60\n",
    "200 / 60"
   ]
  },
  {
   "cell_type": "markdown",
   "id": "f5625f19-24f6-4434-b53a-b2a3fb911056",
   "metadata": {},
   "source": [
    "**Objectives:**\n",
    "\n",
    "- List popular languages for Data Science  \n",
    "- List commonly used libraries  \n",
    "- Create tables using markdown  \n",
    "- Perform basic arithmetic operations in Python  \n",
    "- Share notebooks using GitHub\n"
   ]
  },
  {
   "cell_type": "markdown",
   "id": "a5ee37b0-d4a2-409a-8bbc-afa05eefdcf2",
   "metadata": {},
   "source": [
    "## Author\n",
    "\n",
    "Matthew Ogunsemi\n"
   ]
  },
  {
   "cell_type": "code",
   "execution_count": null,
   "id": "2b004018-a213-44d3-bc0e-a24b4bea9dd3",
   "metadata": {},
   "outputs": [],
   "source": []
  }
 ],
 "metadata": {
  "kernelspec": {
   "display_name": "Python 3 (ipykernel)",
   "language": "python",
   "name": "python3"
  },
  "language_info": {
   "codemirror_mode": {
    "name": "ipython",
    "version": 3
   },
   "file_extension": ".py",
   "mimetype": "text/x-python",
   "name": "python",
   "nbconvert_exporter": "python",
   "pygments_lexer": "ipython3",
   "version": "3.12.4"
  }
 },
 "nbformat": 4,
 "nbformat_minor": 5
}
