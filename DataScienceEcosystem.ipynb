{
 "cells": [
  {
   "cell_type": "markdown",
   "id": "e9a200f1-c3f1-41c0-b454-b04e4112e150",
   "metadata": {},
   "source": [
    "# Data Science Tools and Ecosystem"
   ]
  },
  {
   "cell_type": "markdown",
   "id": "cb7e32bc-f4db-4dc6-9404-eef58ea17fd7",
   "metadata": {},
   "source": [
    "In this notebook, Data Science Tools and Ecosystem are summarized."
   ]
  },
  {
   "cell_type": "code",
   "execution_count": null,
   "id": "1408d497-314d-4d02-80ff-69afff58d214",
   "metadata": {},
   "outputs": [],
   "source": [
    "Some of the popular languages that Data Scientists use are:"
   ]
  },
  {
   "cell_type": "markdown",
   "id": "7925ea0b-a839-4af7-9fa3-5cd13a29578d",
   "metadata": {},
   "source": [
    "1. Python\n",
    "2. Java\n",
    "3. C++"
   ]
  },
  {
   "cell_type": "markdown",
   "id": "e31d3271-3f7b-4b77-87c4-5e9aac8f5fae",
   "metadata": {},
   "source": [
    "Some of the commonly used libraries used by Data Scientists include:\n",
    "\n",
    "1. Pandas  \n",
    "2. NumPy  \n",
    "3. Scikit-learn"
   ]
  },
  {
   "cell_type": "markdown",
   "id": "47778703-b3f6-4bff-9a75-e1aede595ea8",
   "metadata": {},
   "source": [
    "| Data Science Tools |\n",
    "|--------------------|\n",
    "| Jupyter Notebook   |\n",
    "| RStudio            |\n",
    "| Apache Zeppelin    |"
   ]
  },
  {
   "cell_type": "markdown",
   "id": "928e4d4b-7d00-4318-8275-f4cc3fb23ebf",
   "metadata": {},
   "source": [
    "### Below are a few examples of evaluating arithmetic expressions in Python"
   ]
  },
  {
   "cell_type": "markdown",
   "id": "f5915c63-563c-40a1-ae2a-09f6aec7d907",
   "metadata": {},
   "source": [
    "# This a simple arithmetic expression to multiply then add integers\n",
    "(3*4)+5"
   ]
  },
  {
   "cell_type": "markdown",
   "id": "c90aaf26-104f-4fe5-9337-ed99f3c2b9ba",
   "metadata": {},
   "source": [
    "# This will convert 200 minutes to hours by diving by 60\n",
    "200 / 60"
   ]
  },
  {
   "cell_type": "markdown",
   "id": "f5625f19-24f6-4434-b53a-b2a3fb911056",
   "metadata": {},
   "source": [
    "**Objectives:**\n",
    "\n",
    "- List popular languages for Data Science  \n",
    "- List commonly used libraries  \n",
    "- Create tables using markdown  \n",
    "- Perform basic arithmetic operations in Python  \n",
    "- Share notebooks using GitHub\n"
   ]
  },
  {
   "cell_type": "markdown",
   "id": "a5ee37b0-d4a2-409a-8bbc-afa05eefdcf2",
   "metadata": {},
   "source": [
    "## Author\n",
    "\n",
    "Matthew Ogunsemi\n"
   ]
  },
  {
   "cell_type": "code",
   "execution_count": null,
   "id": "2b004018-a213-44d3-bc0e-a24b4bea9dd3",
   "metadata": {},
   "outputs": [],
   "source": []
  }
 ],
 "metadata": {
  "kernelspec": {
   "display_name": "Python 3 (ipykernel)",
   "language": "python",
   "name": "python3"
  },
  "language_info": {
   "codemirror_mode": {
    "name": "ipython",
    "version": 3
   },
   "file_extension": ".py",
   "mimetype": "text/x-python",
   "name": "python",
   "nbconvert_exporter": "python",
   "pygments_lexer": "ipython3",
   "version": "3.12.4"
  }
 },
 "nbformat": 4,
 "nbformat_minor": 5
}
